{
 "cells": [
  {
   "cell_type": "markdown",
   "metadata": {},
   "source": [
    "# Welcome to homework 3 by WIlly G\n",
    "Let's do some imports."
   ]
  },
  {
   "cell_type": "code",
   "execution_count": 5,
   "metadata": {
    "collapsed": false
   },
   "outputs": [],
   "source": [
    "%matplotlib inline\n",
    "\n",
    "import scipy.io\n",
    "from sklearn import svm\n",
    "from sklearn.preprocessing import normalize\n",
    "import numpy as np\n",
    "from sklearn.metrics import confusion_matrix\n",
    "import matplotlib.pylab as plt\n",
    "from scipy.stats import multivariate_normal\n",
    "\n",
    "\n",
    "from skimage.feature import hog\n",
    "from skimage import data, color, exposure"
   ]
  },
  {
   "cell_type": "markdown",
   "metadata": {},
   "source": [
    "Time to get some awesome data for MNIST and do some dundiddly preprocessing."
   ]
  },
  {
   "cell_type": "code",
   "execution_count": 12,
   "metadata": {
    "collapsed": false
   },
   "outputs": [
    {
     "name": "stdout",
     "output_type": "stream",
     "text": [
      "Starting!\n",
      "Data loaded!\n",
      "Featurization progress: 1\n",
      "Featurization progress: 10001\n",
      "Featurization progress: 20001\n",
      "Featurization progress: 30001\n",
      "Featurization progress: 40001\n",
      "Featurization progress: 50001\n",
      "Featurization progress: 1\n",
      "6\n"
     ]
    },
    {
     "data": {
      "image/png": "[encoded data removed]",
      "text/plain": [
       "<matplotlib.figure.Figure at 0x7f72d8b005c0>"
      ]
     },
     "metadata": {},
     "output_type": "display_data"
    }
   ],
   "source": [
    "def featurize(image, i ):\n",
    "    lol = image.reshape(28,28)\n",
    "    extra1 = hog(lol, orientations=8, pixels_per_cell=(14, 14), cells_per_block=(1, 1), visualise=True)\n",
    "    extra2 = hog(lol, orientations=8, pixels_per_cell=(7, 7), cells_per_block=(1, 1), visualise=True)\n",
    "    pixelvector = list(image* 1/255.0*2 - 1)\n",
    "    if (i-1) % 10000 == 0:\n",
    "        print(\"Featurization progress: %s\" % i)\n",
    "    pixelvector.extend(list(extra1[1].flatten()*1/255.0*4))\n",
    "    pixelvector.extend(list(extra2[1].flatten()*1/255.0*4))\n",
    "    return np.array(pixelvector)\n",
    "\n",
    "print(\"Starting!\")\n",
    "\n",
    "image_train = scipy.io.loadmat(\"../data/digit_dataset/train.mat\")\n",
    "image_test = scipy.io.loadmat(\"../data/digit_dataset/test.mat\")['test_images']\n",
    "\n",
    "image_train_data_raw =  image_train['train_images']\n",
    "image_train_label_raw =  image_train['train_labels']\n",
    "\n",
    "print(\"Data loaded!\")\n",
    "image_tdata = np.array([featurize(image_train_data_raw[:,:,i].flatten(), i) for i in range(len(image_train_data_raw[0,0]))])\n",
    "image_tlabel = image_train_label_raw.ravel()\n",
    "\n",
    "image_test_data = np.array([featurize(test.reshape(28,28).T.flatten(), i) for i, test in enumerate(image_test)])\n",
    "\n",
    "#Shuffle that image data good.\n",
    "shuffle = np.random.permutation(np.arange(image_tdata.shape[0]))\n",
    "image_tdata, image_tlabel = image_tdata[shuffle], image_tlabel[shuffle]\n",
    "\n",
    "#VALIDATION\n",
    "image_valid_data  =  image_tdata[0:10000]\n",
    "image_valid_label = image_tlabel[0:10000]\n",
    "\n",
    "#TRAINING\n",
    "image_train_data  =image_tdata[10000:]\n",
    "image_train_label =image_tlabel[10000:]\n",
    "\n",
    "plt.matshow(image_train_data_raw[:,:,1])\n",
    "print(image_train_label[0]) #unrelated to the plot!"
   ]
  },
  {
   "cell_type": "markdown",
   "metadata": {
    "collapsed": true
   },
   "source": [
    "Did you like that. I did. Okay so, let's make a class which model data classes!"
   ]
  },
  {
   "cell_type": "code",
   "execution_count": 13,
   "metadata": {
    "collapsed": false
   },
   "outputs": [],
   "source": [
    "def perturb_eig(mat, alpha):\n",
    "    return mat + alpha*np.eye(mat.shape[0])\n",
    "\n",
    "\n",
    "\n",
    "class dataclass:\n",
    "    def __init__(self, datum, labels, class_label, alpha):\n",
    "        # Find all of the datapoints in datum with the labels class_lab.\n",
    "        # add them to this dataclass\n",
    "        ids_classc = [idx for idx,label in enumerate(labels) if label == class_label ]\n",
    "        self.data = datum[ids_classc]\n",
    "        \n",
    "        #calculate some things!\n",
    "        singcov = np.cov(self.data.T)\n",
    "        self.mean = np.mean(self.data, axis = 0)\n",
    "        self.prior = len(ids_classc)/len(labels)\n",
    "        \n",
    "        #Let's make sure we can invert the covariance matrix using a bincary searach.\n",
    "        self.cov = singcov\n",
    "        \n",
    "        self.gaussian = multivariate_normal(self.mean, self.cov, True)\n",
    "        self.covall = None\n",
    "        \n",
    "    def lda(self, covall, x):\n",
    "        if self.covall is covall:\n",
    "            return self.ldagaussian.logpdf(x) + self.prior\n",
    "        else:\n",
    "            self.covall =covall\n",
    "            self.ldagaussian = multivariate_normal(self.mean, covall, True)\n",
    "            return self.ldagaussian.logpdf(x) + self.prior\n",
    "    \n",
    "    def qda(self, x):\n",
    "        return self.gaussian.pdf(x)*self.prior"
   ]
  },
  {
   "cell_type": "markdown",
   "metadata": {},
   "source": [
    "We gotta make sure this class makes sense"
   ]
  },
  {
   "cell_type": "code",
   "execution_count": 17,
   "metadata": {
    "collapsed": false,
    "scrolled": true
   },
   "outputs": [
    {
     "data": {
      "text/plain": [
       "<matplotlib.image.AxesImage at 0x7f72d5d8a4a8>"
      ]
     },
     "execution_count": 17,
     "metadata": {},
     "output_type": "execute_result"
    },
    {
     "data": {
      "image/png": "[encoded data removed]",
      "text/plain": [
       "<matplotlib.figure.Figure at 0x7f72d8909ef0>"
      ]
     },
     "metadata": {},
     "output_type": "display_data"
    },
    {
     "data": {
      "image/png": "[encoded data removed]",
      "text/plain": [
       "<matplotlib.figure.Figure at 0x7f72d8909898>"
      ]
     },
     "metadata": {},
     "output_type": "display_data"
    },
    {
     "data": {
      "image/png": "[encoded data removed]",
      "text/plain": [
       "<matplotlib.figure.Figure at 0x7f72d88a9860>"
      ]
     },
     "metadata": {},
     "output_type": "display_data"
    },
    {
     "data": {
      "image/png": "[encoded data removed]",
      "text/plain": [
       "<matplotlib.figure.Figure at 0x7f72d5e01358>"
      ]
     },
     "metadata": {},
     "output_type": "display_data"
    }
   ],
   "source": [
    "a = dataclass(image_train_data, image_train_label, 3.0, 0.1)\n",
    "\n",
    "plt.matshow(a.data[0][0:28*28].reshape(28,28))\n",
    "plt.matshow(a.data[0][28*28*2:].reshape(28,28))\n",
    "plt.matshow(a.cov)\n",
    "\n",
    "plt.matshow(a.cov[1333,:].reshape(56+28,28))"
   ]
  },
  {
   "cell_type": "markdown",
   "metadata": {},
   "source": [
    "Let's actually make all of the image classes!"
   ]
  },
  {
   "cell_type": "code",
   "execution_count": 18,
   "metadata": {
    "collapsed": false
   },
   "outputs": [],
   "source": [
    "image_train_class = [dataclass(image_train_data, image_train_label, float(x), 0.1) for x in range(10)]"
   ]
  },
  {
   "cell_type": "code",
   "execution_count": 19,
   "metadata": {
    "collapsed": false
   },
   "outputs": [
    {
     "data": {
      "text/plain": [
       "<matplotlib.image.AxesImage at 0x7f72d88f9048>"
      ]
     },
     "execution_count": 19,
     "metadata": {},
     "output_type": "execute_result"
    },
    {
     "data": {
      "image/png": "[encoded data removed]",
      "text/plain": [
       "<matplotlib.figure.Figure at 0x7f72d88ef5c0>"
      ]
     },
     "metadata": {},
     "output_type": "display_data"
    }
   ],
   "source": [
    "plt.matshow(image_train_class[7].mean.reshape((56+28,28)))"
   ]
  },
  {
   "cell_type": "markdown",
   "metadata": {},
   "source": [
    "Well that worked thank god!\n",
    "Now we need to add all of those peski general properties"
   ]
  },
  {
   "cell_type": "code",
   "execution_count": 20,
   "metadata": {
    "collapsed": false
   },
   "outputs": [
    {
     "data": {
      "text/plain": [
       "<matplotlib.image.AxesImage at 0x7f72d8c2f5f8>"
      ]
     },
     "execution_count": 20,
     "metadata": {},
     "output_type": "execute_result"
    },
    {
     "data": {
      "image/png": "[encoded data removed]",
      "text/plain": [
       "<matplotlib.figure.Figure at 0x7f72d8951f98>"
      ]
     },
     "metadata": {},
     "output_type": "display_data"
    },
    {
     "data": {
      "image/png": "[encoded data removed]",
      "text/plain": [
       "<matplotlib.figure.Figure at 0x7f72d8951e48>"
      ]
     },
     "metadata": {},
     "output_type": "display_data"
    }
   ],
   "source": [
    "covall = 0.1*np.sum([image_train_class[i].cov for i in range(len(image_train_class))], axis=0)\n",
    "precall = np.linalg.pinv(covall)\n",
    "plt.matshow(covall)\n",
    "plt.matshow(precall)"
   ]
  },
  {
   "cell_type": "markdown",
   "metadata": {},
   "source": [
    "# Question 5 part(d)"
   ]
  },
  {
   "cell_type": "markdown",
   "metadata": {
    "collapsed": false
   },
   "source": [
    "Now we make some helper methods."
   ]
  },
  {
   "cell_type": "code",
   "execution_count": 21,
   "metadata": {
    "collapsed": false
   },
   "outputs": [],
   "source": [
    "def best_prediction(classes,method,  x):\n",
    "    return np.argmax(list(map(lambda cls: method(cls, x), classes)))\n",
    "\n",
    "def validate(classes, method,  x, y):\n",
    "    if int(best_prediction(classes, method, x)) == int(y):\n",
    "        return 1.0\n",
    "    else:\n",
    "        return 0\n",
    "\n",
    "def lda(cls, x):\n",
    "    return cls.lda(covall, x)\n",
    "\n",
    "def qda(cls, x):\n",
    "    return cls.qda(x)\n",
    "    \n",
    "def experiment(method, num_class, train_data, train_labels, validation, labels, samples=1000000000):\n",
    "    classes = [dataclass(train_data[0:samples], train_labels[0:samples], float(x), 0.1) for x in range(num_class)]\n",
    "    print(\"classes created for experiment!\")\n",
    "    net = 0\n",
    "    for idx, sample in enumerate(validation):\n",
    "        score = validate(classes, method, sample, labels[idx])\n",
    "        net += score\n",
    "        \n",
    "    return 1.0 - net/len(validation)\n",
    "\n",
    "def do_test(method, num_class, train_data, train_labels, test_data):\n",
    "    classes = [dataclass(train_data, train_labels, float(x), 0.1) for x in range(num_class)]\n",
    "    print(\"classes classes created for test!\")\n",
    "    pred = [int(best_prediction(classes, method, test)) for test in test_data]\n",
    "    pairs = list(enumerate(pred))\n",
    "    for idx, pair in enumerate(pairs):\n",
    "        pairs[idx] =(pair[0]+1, pair[1])\n",
    "    return pairs\n",
    "\n",
    "experiment_count = [100,200, 500, 1000, 2000, 5000, 10000, 30000, 50000]"
   ]
  },
  {
   "cell_type": "markdown",
   "metadata": {},
   "source": [
    "Now we can actually run some experiments"
   ]
  },
  {
   "cell_type": "code",
   "execution_count": 22,
   "metadata": {
    "collapsed": false
   },
   "outputs": [
    {
     "name": "stdout",
     "output_type": "stream",
     "text": [
      "LDA\n",
      "Running at 100,\n",
      "classes created for experiment!\n",
      "\tError: 0.6674\n",
      "Running at 200,\n",
      "classes created for experiment!\n",
      "\tError: 0.36329999999999996\n",
      "Running at 500,\n",
      "classes created for experiment!\n",
      "\tError: 0.13729999999999998\n",
      "Running at 1000,\n",
      "classes created for experiment!\n",
      "\tError: 0.08689999999999998\n",
      "Running at 2000,\n",
      "classes created for experiment!\n",
      "\tError: 0.06969999999999998\n",
      "Running at 5000,\n",
      "classes created for experiment!\n",
      "\tError: 0.061000000000000054\n",
      "Running at 10000,\n",
      "classes created for experiment!\n",
      "\tError: 0.05740000000000001\n",
      "Running at 30000,\n",
      "classes created for experiment!\n",
      "\tError: 0.054200000000000026\n",
      "Running at 50000,\n",
      "classes created for experiment!\n",
      "\tError: 0.05410000000000004\n"
     ]
    },
    {
     "data": {
      "image/png": "[encoded data removed]",
      "text/plain": [
       "<matplotlib.figure.Figure at 0x7f72d897a6a0>"
      ]
     },
     "metadata": {},
     "output_type": "display_data"
    }
   ],
   "source": [
    "#LDA\n",
    "print(\"LDA\")\n",
    "errors = []\n",
    "for count in experiment_count:\n",
    "    print(\"Running at %s,\" %  count)\n",
    "    error = experiment(lda, 10, image_train_data,image_train_label , image_valid_data, image_valid_label, count)\n",
    "    print(\"\\tError: %s\" % error)\n",
    "    errors.append(error)\n",
    "    \n",
    "plt.plot(experiment_count, errors)\n",
    "plt.show()"
   ]
  },
  {
   "cell_type": "code",
   "execution_count": 23,
   "metadata": {
    "collapsed": false
   },
   "outputs": [
    {
     "name": "stdout",
     "output_type": "stream",
     "text": [
      "QDA\n",
      "Running at 100,\n",
      "classes created for experiment!\n",
      "\tError: 0.9071\n",
      "Running at 200,\n",
      "classes created for experiment!\n",
      "\tError: 0.8905\n",
      "Running at 500,\n",
      "classes created for experiment!\n",
      "\tError: 0.7746\n",
      "Running at 1000,\n",
      "classes created for experiment!\n",
      "\tError: 0.2619\n",
      "Running at 2000,\n",
      "classes created for experiment!\n",
      "\tError: 0.17300000000000004\n",
      "Running at 5000,\n",
      "classes created for experiment!\n",
      "\tError: 0.7823\n",
      "Running at 10000,\n",
      "classes created for experiment!\n",
      "\tError: 0.2914\n",
      "Running at 30000,\n",
      "classes created for experiment!\n",
      "\tError: 0.14239999999999997\n",
      "Running at 50000,\n",
      "classes created for experiment!\n",
      "\tError: 0.13470000000000004\n"
     ]
    },
    {
     "name": "stderr",
     "output_type": "stream",
     "text": [
      "/home/william/anaconda3/lib/python3.4/site-packages/scipy/stats/_multivariate.py:603: RuntimeWarning: overflow encountered in exp\n",
      "  return np.exp(self.logpdf(x))\n"
     ]
    },
    {
     "data": {
      "image/png": "[encoded data removed]",
      "text/plain": [
       "<matplotlib.figure.Figure at 0x7f72d8aa59b0>"
      ]
     },
     "metadata": {},
     "output_type": "display_data"
    }
   ],
   "source": [
    "#QDA\n",
    "print(\"QDA\")\n",
    "errors = []\n",
    "for count in experiment_count:\n",
    "    print(\"Running at %s,\" %  count)\n",
    "    error = experiment(qda, 10, image_train_data, image_train_label, image_valid_data, image_valid_label, count)\n",
    "    print(\"\\tError: %s\" % error)\n",
    "    errors.append(error)\n",
    "    \n",
    "plt.plot(experiment_count, errors)\n",
    "plt.show()"
   ]
  },
  {
   "cell_type": "code",
   "execution_count": 27,
   "metadata": {
    "collapsed": false
   },
   "outputs": [
    {
     "name": "stdout",
     "output_type": "stream",
     "text": [
      "classes classes created for test!\n"
     ]
    }
   ],
   "source": [
    "thedata = list(do_test(lda, 10, image_tdata, image_tlabel, image_test_data))\n",
    "np.savetxt(\n",
    "    'kaggleimage.csv',           # file name\n",
    "    thedata,                # array to save\n",
    "    fmt='%i',             # formatting, 2 digits in this case\n",
    "    delimiter=',',          # column delimiter\n",
    "    newline='\\n')"
   ]
  },
  {
   "cell_type": "markdown",
   "metadata": {},
   "source": [
    "Now let's do the spam thing and work it all out!"
   ]
  },
  {
   "cell_type": "code",
   "execution_count": 25,
   "metadata": {
    "collapsed": false
   },
   "outputs": [],
   "source": [
    "spam_data = scipy.io.loadmat(\"../data/spam_dataset/spam_data.mat\")\n",
    "spam_train = spam_data['training_data']\n",
    "spam_test = spam_data['test_data']\n",
    "\n",
    "spam_train_data_raw =  spam_train\n",
    "spam_train_label_raw =  spam_data['training_labels']\n",
    "\n",
    "spam_tlabel = spam_train_label_raw.ravel()\n",
    "div_train = [1.0/max(arr) for arr in spam_train_data_raw.T]\n",
    "spam_tdata = np.array([np.multiply(dp, div_train) for dp in spam_train_data_raw ])\n",
    "spam_test_data = np.array([np.multiply(dp, div_train) for dp in spam_test ])\n",
    "\n",
    "#Shuffle that spam data good.\n",
    "shuffle = np.random.permutation(np.arange(spam_tdata.shape[0]))\n",
    "spam_tdata, spam_tlabel = spam_tdata[shuffle], spam_tlabel[shuffle]\n",
    "\n",
    "#VALIDATION\n",
    "spam_valid_data  =  spam_tdata[0:750]\n",
    "spam_valid_label = spam_tlabel[0:750]\n",
    "\n",
    "#TRAINING\n",
    "spam_train_data  =spam_tdata[750:]\n",
    "spam_train_label =spam_tlabel[750:]\n"
   ]
  },
  {
   "cell_type": "markdown",
   "metadata": {},
   "source": [
    "Looks good! Let's train on everything and build a Kaggle."
   ]
  },
  {
   "cell_type": "code",
   "execution_count": 26,
   "metadata": {
    "collapsed": false
   },
   "outputs": [
    {
     "name": "stdout",
     "output_type": "stream",
     "text": [
      "classes classes created for test!\n"
     ]
    }
   ],
   "source": [
    "thedata = list(do_test(qda, 2, spam_tdata, spam_tlabel, spam_test_data))\n",
    "np.savetxt(\n",
    "    'kagglespam.csv',           # file name\n",
    "    thedata,                # array to save\n",
    "    fmt='%i',             # formatting, 2 digits in this case\n",
    "    delimiter=',',          # column delimiter\n",
    "    newline='\\n')"
   ]
  },
  {
   "cell_type": "markdown",
   "metadata": {
    "collapsed": true
   },
   "source": [
    "# Linear Regressive\n",
    "Let's do it! We know that $\\langle w, x\\rangle = \\hat y$. Therefore, we can consider the following line\n",
    "of reasoning.\n",
    "\n",
    "Let $X$ be the design matrix containing all of the data points. Since for each data point there is weight whose dot product yeilds an entry of the final output $y$, we let $w$ be some weight vector, along which we will multiply each data point. This gives\n",
    "$$Xw = y.$$\n",
    "\n",
    "Performing a pseudo inverse will give us the least squares solution $w = (X^TX)^{-1}X^Ty$."
   ]
  },
  {
   "cell_type": "code",
   "execution_count": 142,
   "metadata": {
    "collapsed": false
   },
   "outputs": [],
   "source": [
    "def linreg(data, y, alpha=0):\n",
    "    #Add one to all the data points.\n",
    "    extended = np.array([np.append(sample, [1]) for sample in data])\n",
    "    print(extended)\n",
    "    w = np.dot(np.dot(np.linalg.inv(np.dot(extended.T, extended)), extended.T), y)\n",
    "    return w\n",
    "\n",
    "def linrss(data, y, w):\n",
    "    extended = np.array([np.append(sample, [1]) for sample in data])\n",
    "    return np.linalg.norm(np.dot(extended,w) - y,2)**2\n",
    "\n",
    "def plot_weights(w):\n",
    "    plt.bar(range(len(w)-1),w[:-1])"
   ]
  },
  {
   "cell_type": "code",
   "execution_count": 143,
   "metadata": {
    "collapsed": false
   },
   "outputs": [
    {
     "name": "stdout",
     "output_type": "stream",
     "text": [
      "[[ 0.   1. ]\n",
      " [ 1.   1. ]\n",
      " [ 1.2  1. ]\n",
      " [ 1.5  1. ]\n",
      " [ 2.   1. ]]\n",
      "0.0133120437956\n"
     ]
    },
    {
     "data": {
      "image/png": "[encoded data removed]",
      "text/plain": [
       "<matplotlib.figure.Figure at 0x7f72cd4c95f8>"
      ]
     },
     "metadata": {},
     "output_type": "display_data"
    }
   ],
   "source": [
    "test = np.array([[0],[1],[1.2],[1.5],[2]])\n",
    "test_y = np.array([1.8,1.6,1.5,1.3,1.2])\n",
    "\n",
    "w = linreg(test,test_y, 0)\n",
    "#plot_weights(w)\n",
    "\n",
    "X = np.array([[-1,1],\n",
    "            [-0.5,1],\n",
    "            [0,1],\n",
    "            [0.5,1],\n",
    "            [1,1],\n",
    "             [1.5,1],\n",
    "             [2,1],\n",
    "             [2.5,1],\n",
    "             [3,1]])\n",
    "x = np.array([-1,-0.5,0,0.5,1,1.5,2,2.5,3])\n",
    "\n",
    "plt.plot(x, np.dot(X,w))\n",
    "plt.plot(test, test_y, 'ro')\n",
    "\n",
    "print(linrss(test, test_y, w))"
   ]
  },
  {
   "cell_type": "code",
   "execution_count": 149,
   "metadata": {
    "collapsed": false
   },
   "outputs": [],
   "source": [
    "real_data =  scipy.io.loadmat(\"../data/housing_dataset/housing_data.mat\")\n",
    "real_Xtrain = (real_data['Xtrain'])/ np.linalg.norm((real_data['Xtrain']),2)\n",
    "real_Ytrain = real_data['Ytrain'].ravel()/np.linalg.norm(real_data['Ytrain'].ravel(),2)\n",
    "real_Xvalidate = real_data['Xvalidate'] /np.linalg.norm(((real_data['Xvalidate'])),2)\n",
    "real_Yvalidate = real_data['Yvalidate'].ravel()/np.linalg.norm(real_data['Yvalidate'].ravel(),2)"
   ]
  },
  {
   "cell_type": "code",
   "execution_count": 151,
   "metadata": {
    "collapsed": false
   },
   "outputs": [
    {
     "name": "stdout",
     "output_type": "stream",
     "text": [
      "[[  5.32672469e-06   5.82932150e-05   1.97286100e-03 ...,   6.92960594e-05\n",
      "   -2.20621602e-04   1.00000000e+00]\n",
      " [  8.92487339e-06   6.19365410e-05   6.02241778e-03 ...,   6.92049762e-05\n",
      "   -2.23244797e-04   1.00000000e+00]\n",
      " [  9.20449865e-06   4.73632372e-05   4.10967166e-03 ...,   6.94600090e-05\n",
      "   -2.20967718e-04   1.00000000e+00]\n",
      " ..., \n",
      " [  2.73249445e-06   7.10448558e-05   1.84898791e-03 ...,   6.79480288e-05\n",
      "   -2.19473955e-04   1.00000000e+00]\n",
      " [  1.69068540e-05   5.64715521e-05   4.94945829e-03 ...,   6.80573285e-05\n",
      "   -2.22388615e-04   1.00000000e+00]\n",
      " [  5.94208244e-06   9.47264744e-05   6.59077662e-03 ...,   6.89499434e-05\n",
      "   -2.22716515e-04   1.00000000e+00]]\n",
      "613157.990429\n"
     ]
    },
    {
     "data": {
      "image/png": "[encoded data removed]",
      "text/plain": [
       "<matplotlib.figure.Figure at 0x7f72d889ee80>"
      ]
     },
     "metadata": {},
     "output_type": "display_data"
    }
   ],
   "source": [
    "w = linreg(real_Xtrain, real_Ytrain)\n",
    "\n",
    "plot_weights(w)\n",
    "print(linrss(real_Xvalidate, real_Yvalidate, w))"
   ]
  },
  {
   "cell_type": "code",
   "execution_count": 154,
   "metadata": {
    "collapsed": false
   },
   "outputs": [
    {
     "data": {
      "text/plain": [
       "(array([   4.,   21.,  102.,  423.,  553.,   81.,    6.,    4.,    5.,    1.]),\n",
       " array([ 20.43552208,  20.97386487,  21.51220766,  22.05055045,\n",
       "         22.58889324,  23.12723604,  23.66557883,  24.20392162,\n",
       "         24.74226441,  25.28060721,  25.81895   ]),\n",
       " <a list of 10 Patch objects>)"
      ]
     },
     "execution_count": 154,
     "metadata": {},
     "output_type": "execute_result"
    },
    {
     "data": {
      "image/png": "[encoded data removed]",
      "text/plain": [
       "<matplotlib.figure.Figure at 0x7f72cd6dff98>"
      ]
     },
     "metadata": {},
     "output_type": "display_data"
    }
   ],
   "source": [
    "extended = np.array([np.append(sample, [1]) for sample in real_Xvalidate])\n",
    "plt.hist(np.dot(extended, w) - real_Yvalidate)"
   ]
  },
  {
   "cell_type": "code",
   "execution_count": null,
   "metadata": {
    "collapsed": true
   },
   "outputs": [],
   "source": []
  }
 ],
 "metadata": {
  "kernelspec": {
   "display_name": "Python 3",
   "language": "python",
   "name": "python3"
  },
  "language_info": {
   "codemirror_mode": {
    "name": "ipython",
    "version": 3
   },
   "file_extension": ".py",
   "mimetype": "text/x-python",
   "name": "python",
   "nbconvert_exporter": "python",
   "pygments_lexer": "ipython3",
   "version": "3.4.4"
  }
 },
 "nbformat": 4,
 "nbformat_minor": 0
}
