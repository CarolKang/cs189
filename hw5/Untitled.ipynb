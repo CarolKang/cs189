{
 "cells": [
  {
   "cell_type": "markdown",
   "metadata": {},
   "source": [
    "# Homework 5 Random Forests and Decision Trees."
   ]
  },
  {
   "cell_type": "code",
   "execution_count": 119,
   "metadata": {
    "collapsed": true
   },
   "outputs": [],
   "source": [
    "import numpy as np\n",
    "import math"
   ]
  },
  {
   "cell_type": "markdown",
   "metadata": {},
   "source": [
    "Let's implement a Decision tree using Shannon Entropy and expected information gain.\n",
    "To do this we need to\n",
    "* Implement functions getting information entropy\n",
    "* Implement a decision tree class which acts on a \"labeled\" dataset"
   ]
  },
  {
   "cell_type": "markdown",
   "metadata": {},
   "source": [
    "## Information Theory"
   ]
  },
  {
   "cell_type": "code",
   "execution_count": 120,
   "metadata": {
    "collapsed": false
   },
   "outputs": [],
   "source": [
    "# Based on the standard definition of entropy.\n",
    "def entropy(data, classes):\n",
    "    entr = 0\n",
    "    for cls in classes:\n",
    "        probi = len(cls)/len(data)\n",
    "        entr += -probi*math.log2(probi)\n",
    "    \n",
    "    return entr\n",
    "\n",
    "# Determines the information gain for an attribute for a data set.\n",
    "def discrete_igain(data, classes, a, possible_a):\n",
    "    data_entropy = entropy(data,classes)\n",
    "    \n",
    "    mutualinf = 0\n",
    "    for attr in possible_a:\n",
    "        data_attr = [x for x in data if x[a] == attr]\n",
    "        mutualinf += len(data_attr)/len(data)*entropy(data_attr, classes)\n",
    "    \n",
    "    return  data_entropy - mutualinf\n",
    "\n",
    "#not an efficient classes algorithm, but no fucks given; only use once.\n",
    "def get_classes(data, labels):\n",
    "    cls = []\n",
    "    label_vals = np.unique(labels)\n",
    "    for label in label_vals:\n",
    "        cls.append([x for x,y in zip(data,labels) if y == label])\n",
    "        \n",
    "    return cls\n",
    "\n",
    "def get_attrvals(data, a):\n",
    "    return np.unique(np.transpose(x)[a])"
   ]
  },
  {
   "cell_type": "markdown",
   "metadata": {},
   "source": [
    "### Tests"
   ]
  },
  {
   "cell_type": "code",
   "execution_count": 121,
   "metadata": {
    "collapsed": false
   },
   "outputs": [
    {
     "data": {
      "text/plain": [
       "3.281683492661997"
      ]
     },
     "execution_count": 121,
     "metadata": {},
     "output_type": "execute_result"
    }
   ],
   "source": [
    "#XOR!\n",
    "x = np.array([[0,0],\n",
    "              [1,0],\n",
    "              [0,1],\n",
    "              [1,1],\n",
    "              [-1,1],\n",
    "              [-1,0],\n",
    "              [-1,-1]])\n",
    "y = np.array([0,1,1,0,0,0,1])\n",
    "\n",
    "cls = get_classes(x,y)\n",
    "entropy(x, cls)\n",
    "discrete_igain(x, cls, 1,get_attrvals(x, 1))"
   ]
  },
  {
   "cell_type": "code",
   "execution_count": 137,
   "metadata": {
    "collapsed": false
   },
   "outputs": [],
   "source": [
    "def submap(data,label, restriction):\n",
    "    indices, constraints = zip(*restriction)\n",
    "    \n",
    "    a,b = zip(*[(x,y) for x,y in zip(data,label) if x[indices] == constraints])\n",
    "    return (list(a), list(b))\n",
    "xp, yp =submap(x,y, [(0,-1)])\n",
    "clsp = get_classes(xp,yp)"
   ]
  },
  {
   "cell_type": "code",
   "execution_count": null,
   "metadata": {
    "collapsed": true
   },
   "outputs": [],
   "source": []
  }
 ],
 "metadata": {
  "kernelspec": {
   "display_name": "Python 3",
   "language": "python",
   "name": "python3"
  },
  "language_info": {
   "codemirror_mode": {
    "name": "ipython",
    "version": 3
   },
   "file_extension": ".py",
   "mimetype": "text/x-python",
   "name": "python",
   "nbconvert_exporter": "python",
   "pygments_lexer": "ipython3",
   "version": "3.4.4"
  }
 },
 "nbformat": 4,
 "nbformat_minor": 0
}
