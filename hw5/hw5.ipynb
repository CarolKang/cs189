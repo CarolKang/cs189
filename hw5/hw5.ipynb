{
 "cells": [
  {
   "cell_type": "markdown",
   "metadata": {},
   "source": [
    "# Homework 5 Random Forests and Decision Trees."
   ]
  },
  {
   "cell_type": "code",
   "execution_count": 735,
   "metadata": {
    "collapsed": true
   },
   "outputs": [],
   "source": [
    "import numpy as np\n",
    "import math"
   ]
  },
  {
   "cell_type": "markdown",
   "metadata": {},
   "source": [
    "Let's implement a Decision tree using Shannon Entropy and expected information gain.\n",
    "To do this we need to\n",
    "* Implement functions getting information entropy\n",
    "* Implement a decision tree class which acts on a \"labeled\" dataset"
   ]
  },
  {
   "cell_type": "markdown",
   "metadata": {},
   "source": [
    "## Information Theory"
   ]
  },
  {
   "cell_type": "code",
   "execution_count": 736,
   "metadata": {
    "collapsed": false
   },
   "outputs": [],
   "source": [
    "# Based on the standard definition of entropy.\n",
    "def entropy(data, classes):\n",
    "    entr = 0\n",
    "    for cls in classes:\n",
    "        probi = len(cls)/len(data)\n",
    "        entr += -probi*math.log2(probi)\n",
    "    \n",
    "    return entr\n",
    "\n",
    "# Determines the information gain for an attribute for a data set.\n",
    "def discrete_igain(data, classes, a, possible_a):\n",
    "    data_entropy = entropy(data,classes)\n",
    "    return discrete_igain_fast(data,classes,a,possible_a,data_entropy)\n",
    "\n",
    "def discrete_igain_fast(data,classes, a , possible_a, data_entropy):\n",
    "    mutualinf = 0\n",
    "    for attr in possible_a:\n",
    "        data_attr = [x for x in data if x[a] == attr]\n",
    "        mutualinf += len(data_attr)/len(data)*entropy(data_attr, classes)\n",
    "    \n",
    "    return  data_entropy - mutualinf\n",
    "\n",
    "#not an efficient classes algorithm, but no fucks given; only use once.\n",
    "def get_classes(data, labels):\n",
    "    cls = []\n",
    "    label_vals = np.unique(labels)\n",
    "    for label in label_vals:\n",
    "        cls.append([x for x,y in zip(data,labels) if y == label])\n",
    "        \n",
    "    return cls\n",
    "\n",
    "def get_attrvals(data, a):\n",
    "    return np.unique(np.transpose(data)[a])"
   ]
  },
  {
   "cell_type": "markdown",
   "metadata": {},
   "source": [
    "### Tests"
   ]
  },
  {
   "cell_type": "code",
   "execution_count": 737,
   "metadata": {
    "collapsed": false
   },
   "outputs": [
    {
     "data": {
      "text/plain": [
       "3.281683492661997"
      ]
     },
     "execution_count": 737,
     "metadata": {},
     "output_type": "execute_result"
    }
   ],
   "source": [
    "#XOR!\n",
    "x = np.array([[0,0],\n",
    "              [1,0],\n",
    "              [0,1],\n",
    "              [1,1],\n",
    "              [-1,1],\n",
    "              [-1,0],\n",
    "              [-1,-1]])\n",
    "y = np.array([0,1,1,0,0,0,1])\n",
    "\n",
    "cls = get_classes(x,y)\n",
    "entropy(x, cls)\n",
    "discrete_igain(x, cls, 1, get_attrvals(x, 1))"
   ]
  },
  {
   "cell_type": "code",
   "execution_count": 738,
   "metadata": {
    "collapsed": false
   },
   "outputs": [],
   "source": [
    "def submap(data,label, restriction):\n",
    "    indices, constraints = zip(*restriction)\n",
    "    \n",
    "    a,b = zip(*[(x,y) for x,y in zip(data,label) if x[indices] == constraints])\n",
    "    return (np.array(list(a)), np.array(list(b)))\n",
    "xp, yp =submap(x,y, [(0,-1)])\n",
    "clsp = get_classes(xp,yp)\n",
    "\n",
    "def tabstr(n):\n",
    "    retstr = \"\"\n",
    "    for i in range(n):\n",
    "        retstr += \"\\t\"\n",
    "        \n",
    "    return retstr"
   ]
  },
  {
   "cell_type": "markdown",
   "metadata": {
    "collapsed": true
   },
   "source": [
    "## Discrete Decision Trees\n",
    "Since we've built our tests and informtion theoretic methods; it is now probably a good idea to build a decision tree class. This should attempt to maximize information gain upon construction and thereafter be able to classify\n",
    "any given training example confined to the attributional classes of the dataset.\n",
    "\n",
    "After we do this, we'll define a decision tree which can take discrete and continuous vales, specified during construction."
   ]
  },
  {
   "cell_type": "code",
   "execution_count": 739,
   "metadata": {
    "collapsed": false
   },
   "outputs": [],
   "source": [
    "# A toy example of the discrete decision tree\n",
    "class ddtree:\n",
    "    ### gets decisional\n",
    "    def __init__(self, data, labels, restricted=[]):\n",
    "        self.data = data\n",
    "        self.labels = labels\n",
    "        self.classes = get_classes(data,labels)\n",
    "        self.subtrees = {}\n",
    "        self.entropy = entropy(self.data, self.classes)\n",
    "        self.attr = None\n",
    "        self.restricted = restricted\n",
    "    \n",
    "    #trains the tree:\n",
    "    def train(self):\n",
    "        #check to see that the label set is unique\n",
    "        if len(np.unique(self.labels)) <= 1:\n",
    "            return\n",
    "        \n",
    "        #Get the igains for all of the attributes.\n",
    "        igains = []\n",
    "        \n",
    "        for i in range(self.data.shape[1]): #random forest would take a random sub sample.\n",
    "            #make sure we don't consider all the values a previous node has considered.\n",
    "            if self.restricted is None or i not in self.restricted:\n",
    "                atr_vals = get_attrvals(self.data,i)\n",
    "                \n",
    "                if len(atr_vals) >1: #We only want to consider attributes whose possible values are different\n",
    "                    igains.append(discrete_igain(self.data, self.classes, i, atr_vals))\n",
    "                \n",
    "        #Best attribute is the argmax\n",
    "        best_attr = np.argmax(igains)\n",
    "        self.attr = best_attr\n",
    "        \n",
    "        # restrict the attributes which the trees can consider!\n",
    "        subres = [best_attr]\n",
    "        subres.extend(self.restricted)\n",
    "        \n",
    "        #Make the sub decision trees for each choice of the attribute.\n",
    "        for val in get_attrvals(self.data,best_attr):\n",
    "            #make a subtree\n",
    "            dp, lp = submap(self.data, self.labels, [(best_attr, val)])\n",
    "            #make the subtree decisions based on if they satisfy a lambda; to abstract in dynamic trees.\n",
    "            tree = ddtree(dp, lp, subres)\n",
    "            self.subtrees[(val, lambda x, best_attr=best_attr, val=val: x[best_attr] == val)] = tree\n",
    "\n",
    "            \n",
    "        #train all of the trees\n",
    "        for (val, test), tree in self.subtrees.items():\n",
    "            tree.train()\n",
    "            \n",
    "    \n",
    "    def classify(self, x):\n",
    "        if len(self.subtrees) > 0 and self.attr is not None:\n",
    "            for (val, test), tree in self.subtrees.items():\n",
    "                if test(x):\n",
    "                    return tree.classify(x)\n",
    "        else:\n",
    "            return self.labels[0] #Return the only label in the tree.\n",
    "        \n",
    "    def print_tree(self, n):\n",
    "        if len(self.subtrees) > 0 and self.attr is not None:\n",
    "            retstr =  \"x[\" + str(self.attr) + \"] subtrees(\" + str(len(self.subtrees)) + \")\\n\" + tabstr(n)\n",
    "            for (val, test), tree in self.subtrees.items():\n",
    "                retstr += \"- \" +  str(val) + \" ->\"+\"\\t\" + tree.print_tree(n+1) +\"\\n\" + tabstr(n)\n",
    "        else:\n",
    "            return  \"Y:\" + str(self.labels[0])\n",
    "        \n",
    "        return retstr\n",
    "        \n",
    "    def __str__(self):\n",
    "        return self.print_tree(0)\n",
    "            "
   ]
  },
  {
   "cell_type": "code",
   "execution_count": 740,
   "metadata": {
    "collapsed": true
   },
   "outputs": [],
   "source": [
    "test = ddtree(x,y)"
   ]
  },
  {
   "cell_type": "code",
   "execution_count": 741,
   "metadata": {
    "collapsed": false,
    "scrolled": true
   },
   "outputs": [
    {
     "name": "stdout",
     "output_type": "stream",
     "text": [
      "x[1] subtrees(3)\n",
      "- 1 ->\tx[0] subtrees(3)\n",
      "\t- 1 ->\tY:0\n",
      "\t- 0 ->\tY:1\n",
      "\t- -1 ->\tY:0\n",
      "\t\n",
      "- 0 ->\tx[0] subtrees(3)\n",
      "\t- -1 ->\tY:0\n",
      "\t- 0 ->\tY:0\n",
      "\t- 1 ->\tY:1\n",
      "\t\n",
      "- -1 ->\tY:1\n",
      "\n",
      "Classification error!\n",
      "0 0\n",
      "1 1\n",
      "1 1\n",
      "0 0\n",
      "0 0\n",
      "0 0\n",
      "1 1\n"
     ]
    }
   ],
   "source": [
    "# Let's try training this thing!\n",
    "test.train()\n",
    "print(test)\n",
    "print(\"Classification error!\")\n",
    "for i in range(len(x)):\n",
    "    print(test.classify(x[i]), y[i])"
   ]
  },
  {
   "cell_type": "markdown",
   "metadata": {},
   "source": [
    "# Full decision trees with continuous values and random subset selection!"
   ]
  },
  {
   "cell_type": "markdown",
   "metadata": {},
   "source": [
    "In order to implement the full version of decsion trees, we don't think of attributes as elements of a set but in fact indicator functions of subsets. In the case of the `ddtree` we have $\\chi_a$ for singleton sets $\\{a\\} := a$. For the full thing we'll just extend this notion to \"axis aligned\" intervals."
   ]
  },
  {
   "cell_type": "code",
   "execution_count": 742,
   "metadata": {
    "collapsed": false
   },
   "outputs": [],
   "source": [
    "#def indicator\n",
    "class Indicator:\n",
    "    def __init__(self, func, name):\n",
    "        self.func = func\n",
    "        self.name = name\n",
    "    def __call__(self, *args, **kwargs):\n",
    "        return self.func(*args, **kwargs)\n",
    "    def __str__(self):\n",
    "        return str(self.name)\n",
    "    def __repr__(self):\n",
    "        return str(self)\n",
    "\n",
    "\n",
    "\n",
    "# make our indicator functions.\n",
    "def dindicator(a):\n",
    "    return Indicator((lambda x,a=a: x == a),  str(a))\n",
    "def ci_indicator(a,b):\n",
    "    return Indicator((lambda x,a=a,b=b: a <= x and x < b), \"[\" +str(a) + \", \" + str(b) + \")\")  \n",
    "def cray_indicator(a, inf):\n",
    "    if inf > 0:\n",
    "        return Indicator((lambda x,a=a: a <= x), \"(\" + str(a) +\", inf)\")\n",
    "    elif inf < 0:\n",
    "        return Indicator((lambda x,a=a: x < a),  \"(-inf,\" + str(a) +\")\")\n",
    "    else:\n",
    "        return dindicator(a)\n",
    "    \n",
    "    \n",
    "def split_indicators(splits):\n",
    "    indicators = []\n",
    "    \n",
    "    #make end rays\n",
    "    indicators.append(cray_indicator(splits[0], -1))\n",
    "    \n",
    "    #make middle intervals\n",
    "    for i, val in enumerate(splits[:-1]):\n",
    "        indicators.append(ci_indicator(splits[i], splits[i+1]))\n",
    "    #make end rays\n",
    "    indicators.append(cray_indicator(splits[-1], 1))\n",
    "    \n",
    "    return indicators\n",
    "\n",
    "def singleton_indicator(possible_vals):\n",
    "    indicators = []\n",
    "    for val in possible_vals:\n",
    "        indicators.append(dindicator(val))\n",
    "    \n",
    "    return indicators"
   ]
  },
  {
   "cell_type": "markdown",
   "metadata": {},
   "source": [
    "We need to now make the indicator versions of our helper functions."
   ]
  },
  {
   "cell_type": "code",
   "execution_count": 743,
   "metadata": {
    "collapsed": false
   },
   "outputs": [],
   "source": [
    "# Based on the standard definition of entropy.\n",
    "def entropy(data, classes):\n",
    "    if len(data) == 0:\n",
    "        return 0\n",
    "    entr = 0\n",
    "    for cls in classes:\n",
    "        probi = len(cls)/len(data)\n",
    "        entr += -probi*math.log2(probi)\n",
    "    \n",
    "    return entr\n",
    "\n",
    "# Determines the information gain for an attribute for a data set.\n",
    "def igain(data, classes, attribute, indicators):\n",
    "    data_entropy = entropy(data,classes)\n",
    "    return igain_fast(data, classes, attribute, indicators, data_entropy)\n",
    "\n",
    "def igain_fast(data, classes, attribute, indicators, data_entropy):\n",
    "    mutualinf = 0\n",
    "    for indicator in indicators:\n",
    "        data_attr = [x for x in data if indicator(x[attribute])]\n",
    "        mutualinf += len(data_attr)/len(data)*entropy(data_attr, classes)\n",
    "    \n",
    "    return  data_entropy - mutualinf\n",
    "\n",
    "#not an efficient classes algorithm, but no fucks given; only use once.\n",
    "def get_classes(data, labels):\n",
    "    cls = []\n",
    "    label_vals = np.unique(labels)\n",
    "    for label in label_vals:\n",
    "        cls.append([x for x,y in zip(data,labels) if y == label])\n",
    "        \n",
    "    return cls\n",
    "\n",
    "def get_indicators(data, classes, a, discrete=True, heuristic=None):\n",
    "    if discrete:\n",
    "        return singleton_indicator(np.unique(np.transpose(data)[a]))\n",
    "    else:\n",
    "        if heuristic is None:\n",
    "            return split_indicators([np.mean(np.transpose(data)[a])])\n",
    "        else:\n",
    "            return heuristic(data, classes, a, np.transpose(data)[a])\n",
    "\n",
    "# Submaps data based on restrictions.\n",
    "def submap(data,label, restriction):\n",
    "    def satisfies(x, restriction=restriction):\n",
    "        for index, constraint in restriction:\n",
    "            if not constraint(x[index]):\n",
    "                return False\n",
    "        \n",
    "        return True\n",
    "    valueset = [(x,y) for x,y in zip(data,label) if satisfies(x)]\n",
    "    if not valueset:\n",
    "        return None, None\n",
    "    else:\n",
    "        a,b = zip(*valueset)\n",
    "        return (np.array(list(a)), np.array(list(b)))"
   ]
  },
  {
   "cell_type": "markdown",
   "metadata": {},
   "source": [
    "# Splitpoint Heuristics\n",
    "We need heuristics for data deemed continuous. How should we split it?"
   ]
  },
  {
   "cell_type": "code",
   "execution_count": 744,
   "metadata": {
    "collapsed": false
   },
   "outputs": [],
   "source": [
    "import random\n",
    "\n",
    "#Breaks an interval up into n random splits\n",
    "def get_random_splits(n, M, m):\n",
    "        splits = []\n",
    "        for i in range(n):\n",
    "            splits.append(random.random()*(M-m) + m)\n",
    "        splits.sort()\n",
    "        return splits\n",
    "\n",
    "def random_heuristic(n=None):\n",
    "    def get_splits(data, classes, a, values, n=n):\n",
    "        if n is None:\n",
    "            n = math.floor(math.sqrt(len(values)))\n",
    "        M,m = np.max(values), np.min(values)\n",
    "        \n",
    "        splits = get_random_splits(n, M, m)\n",
    "        return split_indicators(splits)\n",
    "    \n",
    "    return get_splits\n",
    "\n",
    "# Gets the most adventageous information gain according to splits\n",
    "# TODO TEST:\n",
    "def random_entropy_heuristic(n=None,p=5):\n",
    "    def get_splits(data,classes, a, values, n=n, p=p):\n",
    "        \n",
    "        possible_indicators = []\n",
    "        rando_splitter = random_heuristic(n)\n",
    "        for i in range(p):\n",
    "            possible_indicators.append(rando_splitter(data, classes,a, values))\n",
    "        \n",
    "        igains = map(lambda x: igain(data, classes, a, x), possible_indicators)\n",
    "         \n",
    "        \n",
    "        return possible_indicators[np.argmax(igains)]\n",
    "    \n",
    "    return get_splits"
   ]
  },
  {
   "cell_type": "markdown",
   "metadata": {},
   "source": [
    "# Decision Tree\n",
    "Now that we've resolved the problem to acting on arbitrary indicator functions for subsets, we can consider building a general decision tree!"
   ]
  },
  {
   "cell_type": "code",
   "execution_count": 745,
   "metadata": {
    "collapsed": false
   },
   "outputs": [],
   "source": [
    "# A toy example of the discrete decision tree\n",
    "class dtree:\n",
    "    ### gets decisional\n",
    "    def __init__(self, data, labels, restricted=[]):\n",
    "        self.data = data\n",
    "        self.labels = labels\n",
    "        self.classes = get_classes(data,labels)\n",
    "        self.subtrees = {}\n",
    "        self.entropy = entropy(self.data, self.classes)\n",
    "        self.attr = None\n",
    "        self.restricted = restricted\n",
    "    \n",
    "    def bag(self, data, bag):\n",
    "        if bag > 0:\n",
    "            return random.sample(data, min(bag, len(data)))\n",
    "        else:\n",
    "            return data\n",
    "                                \n",
    "                             \n",
    "    #trains the tree:\n",
    "    def train(self, bag=0, typetable=None, heuristic=None):\n",
    "        #check to see that the label set is unique\n",
    "        if len(np.unique(self.labels)) <= 1:\n",
    "            return\n",
    "        \n",
    "        #Get the igains for all of the attributes.\n",
    "        igains = []\n",
    "        attr_indic = {}\n",
    "        \n",
    "        attributes = [ i for i in range(self.data.shape[1]) if i not in self.restricted]\n",
    "        attributes = self.bag( attributes, bag)\n",
    "        \n",
    "        \n",
    "        if not attributes:\n",
    "            return #We've reached the end of our tree.\n",
    "        \n",
    "        for i in attributes: #random forest would take a random sub sample.\n",
    "            #make sure we don't consider all the values a previous node has considered.\n",
    "            if self.restricted is None or i not in self.restricted:\n",
    "                discrete = False\n",
    "                \n",
    "                #Assume that all data is discrete :()\n",
    "                if typetable is None or typetable[i]:\n",
    "                    discrete = True\n",
    "                 \n",
    "                indicators = get_indicators(self.data, self.classes, i, discrete, heuristic)\n",
    "                # In case this is the best indicator    \n",
    "                attr_indic[i] = indicators\n",
    "                \n",
    "                #We only want to consider attributes whose possible values are different\n",
    "                igains.append(igain(self.data, self.classes, i, indicators))\n",
    "        \n",
    "        \n",
    "        #Best attribute is the argmax\n",
    "        best_attr = attributes[np.argmax(np.array(igains))]\n",
    "        self.attr = best_attr\n",
    "        \n",
    "        # restrict the attributes which the trees can consider!\n",
    "        subres = [best_attr]\n",
    "        subres.extend(self.restricted)\n",
    "        \n",
    "        \n",
    "        #Make the sub decision trees for each choice of the attribute.\n",
    "        for val in attr_indic[best_attr]:\n",
    "            #make a subtree\n",
    "            dp, lp = submap(self.data, self.labels, [(best_attr, val)])\n",
    "            \n",
    "            #Only make a subtree if there are datapoints which would even satisfy it!\n",
    "            if dp is not None:\n",
    "                #make the subtree decisions based on if they satisfy a lambda; to abstract in dynamic trees.\n",
    "                tree = dtree(dp, lp, subres)\n",
    "                self.subtrees[(val, lambda x, best_attr=best_attr, val=val: val(x[best_attr]))] = tree\n",
    "\n",
    "            \n",
    "        #train all of the trees\n",
    "        for (val, test), tree in self.subtrees.items():\n",
    "            tree.train(bag, typetable, heuristic)\n",
    "            \n",
    "    \n",
    "    def classify(self, x):\n",
    "        if len(self.subtrees) > 0 and self.attr is not None:\n",
    "            for (val, test), tree in self.subtrees.items():\n",
    "                if test(x):\n",
    "                    return tree.classify(x)\n",
    "        else:\n",
    "            return self.labels[0] #Return the only label in the tree.\n",
    "        \n",
    "    def print_tree(self, n):\n",
    "        if len(self.subtrees) > 0 and self.attr is not None:\n",
    "            retstr =  \"x[\" + str(self.attr) + \"] subtrees(\" + str(len(self.subtrees)) + \")\\n\" + tabstr(n)\n",
    "            for (val, test), tree in self.subtrees.items():\n",
    "                retstr += \"- \" + str(val) + \" ->\"+\"\\t\" + tree.print_tree(n+1) +\"\\n\" + tabstr(n)\n",
    "        else:\n",
    "            return  \"Y:\" + str(self.labels[0])\n",
    "        \n",
    "        return retstr\n",
    "        \n",
    "    def __str__(self):\n",
    "        return self.print_tree(0)"
   ]
  },
  {
   "cell_type": "markdown",
   "metadata": {},
   "source": [
    "Wow that was a lot. Okay, so if that worked; we should definitely be able to the discrete case! :e\n"
   ]
  },
  {
   "cell_type": "code",
   "execution_count": 746,
   "metadata": {
    "collapsed": false
   },
   "outputs": [
    {
     "name": "stdout",
     "output_type": "stream",
     "text": [
      "x[1] subtrees(3)\n",
      "- -1 ->\tY:1\n",
      "- 0 ->\tx[0] subtrees(3)\n",
      "\t- 1 ->\tY:1\n",
      "\t- -1 ->\tY:0\n",
      "\t- 0 ->\tY:0\n",
      "\t\n",
      "- 1 ->\tx[0] subtrees(3)\n",
      "\t- 1 ->\tY:0\n",
      "\t- -1 ->\tY:0\n",
      "\t- 0 ->\tY:1\n",
      "\t\n",
      "\n",
      "Classification error!\n",
      "0 0\n",
      "1 1\n",
      "1 1\n",
      "0 0\n",
      "0 0\n",
      "0 0\n",
      "1 1\n"
     ]
    }
   ],
   "source": [
    "test = dtree(x,y) #Shit it worked!\n",
    "test.train()\n",
    "print(test)\n",
    "print(\"Classification error!\")\n",
    "for i in range(len(x)):\n",
    "    print(test.classify(x[i]), y[i])"
   ]
  },
  {
   "cell_type": "markdown",
   "metadata": {},
   "source": [
    "Shit that worked. Let's try some continuous data."
   ]
  },
  {
   "cell_type": "code",
   "execution_count": 747,
   "metadata": {
    "collapsed": false
   },
   "outputs": [],
   "source": [
    "#XOR!\n",
    "x = np.array([[0,0],\n",
    "              [0,0.1],\n",
    "              [1,0.2],\n",
    "              [0,0.3],\n",
    "              [1,0.4],\n",
    "              [0,0.5],\n",
    "              [1,0.6],\n",
    "              [0,0.7],\n",
    "              [1,0.8],\n",
    "              [0,0.9],\n",
    "              [1,1.0],])\n",
    "y = np.array([0,0,0,0,0,1,1,1,1,1,1])\n",
    "\n",
    "cls = get_classes(x,y)\n",
    "typetable = {}\n",
    "typetable[0] = True\n",
    "typetable[1] = False"
   ]
  },
  {
   "cell_type": "code",
   "execution_count": null,
   "metadata": {
    "collapsed": true
   },
   "outputs": [],
   "source": []
  },
  {
   "cell_type": "code",
   "execution_count": 782,
   "metadata": {
    "collapsed": false
   },
   "outputs": [
    {
     "name": "stdout",
     "output_type": "stream",
     "text": [
      "x[1] subtrees(2)\n",
      "- (0.0857320347709, inf) ->\tx[0] subtrees(2)\n",
      "\t- 0.0 ->\tY:0\n",
      "\t- 1.0 ->\tY:0\n",
      "\t\n",
      "- (-inf,0.0857320347709) ->\tY:0\n",
      "\n",
      "Classification error!\n",
      "0 0\n",
      "0 0\n",
      "0 0\n",
      "0 0\n",
      "0 0\n",
      "0 1\n",
      "0 1\n",
      "0 1\n",
      "0 1\n",
      "0 1\n",
      "0 1\n"
     ]
    }
   ],
   "source": [
    "test = dtree(x,y)\n",
    "test.train(typetable=typetable, heuristic=random_entropy_heuristic(1,10000))\n",
    "print(test)\n",
    "print(\"Classification error!\")\n",
    "for i in range(len(x)):\n",
    "    print(test.classify(x[i]), y[i])"
   ]
  },
  {
   "cell_type": "markdown",
   "metadata": {},
   "source": [
    "# Random Forests\n",
    "Now we can aggregate our forest fun with random forests who decorolate decision trees and take therir average!"
   ]
  },
  {
   "cell_type": "code",
   "execution_count": null,
   "metadata": {
    "collapsed": true
   },
   "outputs": [],
   "source": []
  },
  {
   "cell_type": "code",
   "execution_count": null,
   "metadata": {
    "collapsed": true
   },
   "outputs": [],
   "source": []
  },
  {
   "cell_type": "code",
   "execution_count": null,
   "metadata": {
    "collapsed": true
   },
   "outputs": [],
   "source": []
  },
  {
   "cell_type": "code",
   "execution_count": null,
   "metadata": {
    "collapsed": true
   },
   "outputs": [],
   "source": []
  }
 ],
 "metadata": {
  "kernelspec": {
   "display_name": "Python 3",
   "language": "python",
   "name": "python3"
  },
  "language_info": {
   "codemirror_mode": {
    "name": "ipython",
    "version": 3
   },
   "file_extension": ".py",
   "mimetype": "text/x-python",
   "name": "python",
   "nbconvert_exporter": "python",
   "pygments_lexer": "ipython3",
   "version": "3.4.4"
  }
 },
 "nbformat": 4,
 "nbformat_minor": 0
}
