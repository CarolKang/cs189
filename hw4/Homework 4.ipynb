{
 "cells": [
  {
   "cell_type": "markdown",
   "metadata": {},
   "source": [
    "Problem 4"
   ]
  },
  {
   "cell_type": "code",
   "execution_count": 33,
   "metadata": {
    "collapsed": true
   },
   "outputs": [],
   "source": [
    "import numpy as np\n",
    "import math"
   ]
  },
  {
   "cell_type": "code",
   "execution_count": 55,
   "metadata": {
    "collapsed": false
   },
   "outputs": [],
   "source": [
    "def s(gamma):\n",
    "    return 1.0/(1.0 + math.exp(-gamma))\n",
    "\n",
    "def R(w, X, y):\n",
    "    net = 0\n",
    "    for i in range(X.shape[0]):\n",
    "        print(X[i])\n",
    "        net += y[i] * math.log(s(np.dot(w, X[i]))) + (1-y[i])*math.log(s(np.dot(w, X[i])))\n",
    "    return -net"
   ]
  },
  {
   "cell_type": "code",
   "execution_count": 56,
   "metadata": {
    "collapsed": false
   },
   "outputs": [],
   "source": [
    "X = np.array([[0,3,1],\n",
    "              [1,3,1],\n",
    "              [0,1,1],\n",
    "              [1,1,1]])\n",
    "y = np.array([1,1,0,0])\n",
    "w0 = np.array([-2,1,0])"
   ]
  },
  {
   "cell_type": "code",
   "execution_count": 57,
   "metadata": {
    "collapsed": false,
    "scrolled": true
   },
   "outputs": [
    {
     "name": "stdout",
     "output_type": "stream",
     "text": [
      "[0 3 1]\n",
      "[1 3 1]\n",
      "[0 1 1]\n",
      "[1 1 1]\n"
     ]
    },
    {
     "data": {
      "text/plain": [
       "1.9883724141284103"
      ]
     },
     "execution_count": 57,
     "metadata": {},
     "output_type": "execute_result"
    }
   ],
   "source": [
    "R(w0,X,y)"
   ]
  },
  {
   "cell_type": "code",
   "execution_count": 58,
   "metadata": {
    "collapsed": true
   },
   "outputs": [],
   "source": [
    "def delta_w(w,X,y):\n",
    "    net = np.zeros(w.shape[0])\n",
    "    for i in range(X.shape[0]):\n",
    "        net += y[i] - s(np.dot(X[i], w))*X[i]\n",
    "    return -net"
   ]
  },
  {
   "cell_type": "code",
   "execution_count": 59,
   "metadata": {
    "collapsed": false
   },
   "outputs": [
    {
     "data": {
      "text/plain": [
       "array([-3.        ,  5.05089812,  0.68363271])"
      ]
     },
     "execution_count": 59,
     "metadata": {},
     "output_type": "execute_result"
    }
   ],
   "source": [
    "w1 = w0 + delta_w(w0, X,y)\n",
    "w1"
   ]
  },
  {
   "cell_type": "code",
   "execution_count": 60,
   "metadata": {
    "collapsed": false
   },
   "outputs": [
    {
     "name": "stdout",
     "output_type": "stream",
     "text": [
      "[0 3 1]\n",
      "[1 3 1]\n",
      "[0 1 1]\n",
      "[1 1 1]\n"
     ]
    },
    {
     "data": {
      "text/plain": [
       "0.066133848540594925"
      ]
     },
     "execution_count": 60,
     "metadata": {},
     "output_type": "execute_result"
    }
   ],
   "source": [
    "R(w1,X,y)"
   ]
  },
  {
   "cell_type": "code",
   "execution_count": 61,
   "metadata": {
    "collapsed": false
   },
   "outputs": [
    {
     "data": {
      "text/plain": [
       "array([-4.        ,  9.10179623,  1.36726541])"
      ]
     },
     "execution_count": 61,
     "metadata": {},
     "output_type": "execute_result"
    }
   ],
   "source": [
    "w2 = w1 + delta_w(w0, X,y)\n",
    "w2"
   ]
  },
  {
   "cell_type": "code",
   "execution_count": 62,
   "metadata": {
    "collapsed": false
   },
   "outputs": [
    {
     "name": "stdout",
     "output_type": "stream",
     "text": [
      "[0 3 1]\n",
      "[1 3 1]\n",
      "[0 1 1]\n",
      "[1 1 1]\n"
     ]
    },
    {
     "data": {
      "text/plain": [
       "0.0015778803918752944"
      ]
     },
     "execution_count": 62,
     "metadata": {},
     "output_type": "execute_result"
    }
   ],
   "source": [
    "R(w2,X,y)"
   ]
  },
  {
   "cell_type": "code",
   "execution_count": null,
   "metadata": {
    "collapsed": true
   },
   "outputs": [],
   "source": []
  }
 ],
 "metadata": {
  "kernelspec": {
   "display_name": "Python 3",
   "language": "python",
   "name": "python3"
  },
  "language_info": {
   "codemirror_mode": {
    "name": "ipython",
    "version": 3
   },
   "file_extension": ".py",
   "mimetype": "text/x-python",
   "name": "python",
   "nbconvert_exporter": "python",
   "pygments_lexer": "ipython3",
   "version": "3.4.4"
  }
 },
 "nbformat": 4,
 "nbformat_minor": 0
}
